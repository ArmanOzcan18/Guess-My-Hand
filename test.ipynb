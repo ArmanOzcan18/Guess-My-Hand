{
 "cells": [
  {
   "cell_type": "code",
   "execution_count": 1,
   "metadata": {},
   "outputs": [],
   "source": [
    "import random\n",
    "from copy import copy\n",
    "\n",
    "def group_cards(deck, n, seed):\n",
    "\n",
    "    # Set random seed for reproducibility\n",
    "    random.seed(seed)\n",
    "\n",
    "    # Shuffle the deck to ensure randomness\n",
    "    random.shuffle(deck.cards)\n",
    "    \n",
    "    # Calculate the size of each group\n",
    "    group_size = len(deck.cards) // n\n",
    "    \n",
    "    # Create groups\n",
    "    groups = {i: [] for i in range(1, n+1)}\n",
    "    \n",
    "    # Distribute cards into groups\n",
    "    for i in range(n):\n",
    "        groups[i+1] = deck.cards[i * group_size: (i + 1) * group_size]\n",
    "    \n",
    "    return groups"
   ]
  },
  {
   "cell_type": "code",
   "execution_count": 4,
   "metadata": {},
   "outputs": [],
   "source": [
    "def playing(player, deck):\n",
    "\n",
    "    random_seeds = random.sample(range(100), 13)\n",
    "\n",
    "    if player.name == \"North\" or player.name == \"South\":\n",
    "        return NorthSouthStrategy(player, deck, random_seeds)\n",
    "    else:\n",
    "        return EastWestStrategy(player, deck, random_seeds)\n",
    "    \n",
    "\n",
    "def guessing(player, cards, round):\n",
    "    return random.sample(cards, 13 - round)"
   ]
  },
  {
   "cell_type": "code",
   "execution_count": null,
   "metadata": {},
   "outputs": [],
   "source": [
    "def NorthSouthStrategy(player, deck, random_seeds):\n",
    "    \"\"\"\n",
    "    Max First strategy\n",
    "    \"\"\"\n",
    "    print(random_seeds)\n",
    "    \n",
    "    if not player.hand:\n",
    "        return None\n",
    "    \n",
    "    value_order = deck.values\n",
    "    max_index = 0\n",
    "    max_value = -1\n",
    "    \n",
    "    for i, card in enumerate(player.hand):\n",
    "        value = value_order.index(card.value)\n",
    "        if value > max_value:\n",
    "            max_value = value\n",
    "            max_index = i\n",
    "    \n",
    "    return max_index\n",
    "\n",
    "\n",
    "def EastWestStrategy(player, deck):\n",
    "    return NorthSouthStrategy(player, deck)"
   ]
  },
  {
   "cell_type": "code",
   "execution_count": null,
   "metadata": {},
   "outputs": [],
   "source": []
  }
 ],
 "metadata": {
  "kernelspec": {
   "display_name": "base",
   "language": "python",
   "name": "python3"
  },
  "language_info": {
   "codemirror_mode": {
    "name": "ipython",
    "version": 3
   },
   "file_extension": ".py",
   "mimetype": "text/x-python",
   "name": "python",
   "nbconvert_exporter": "python",
   "pygments_lexer": "ipython3",
   "version": "3.10.9"
  }
 },
 "nbformat": 4,
 "nbformat_minor": 2
}
