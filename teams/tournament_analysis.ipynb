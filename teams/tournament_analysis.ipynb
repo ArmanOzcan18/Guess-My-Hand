{
 "cells": [
  {
   "cell_type": "code",
   "execution_count": 2,
   "metadata": {},
   "outputs": [],
   "source": [
    "import numpy as np\n",
    "import pandas as pd\n",
    "import matplotlib.pyplot as plt"
   ]
  },
  {
   "cell_type": "code",
   "execution_count": 43,
   "metadata": {},
   "outputs": [
    {
     "data": {
      "text/html": [
       "<div>\n",
       "<style scoped>\n",
       "    .dataframe tbody tr th:only-of-type {\n",
       "        vertical-align: middle;\n",
       "    }\n",
       "\n",
       "    .dataframe tbody tr th {\n",
       "        vertical-align: top;\n",
       "    }\n",
       "\n",
       "    .dataframe thead th {\n",
       "        text-align: right;\n",
       "    }\n",
       "</style>\n",
       "<table border=\"1\" class=\"dataframe\">\n",
       "  <thead>\n",
       "    <tr style=\"text-align: right;\">\n",
       "      <th></th>\n",
       "      <th>P1 [NS]</th>\n",
       "      <th>P2 [EW]</th>\n",
       "      <th>Score P1</th>\n",
       "      <th>Score P2</th>\n",
       "      <th>Seed</th>\n",
       "    </tr>\n",
       "  </thead>\n",
       "  <tbody>\n",
       "    <tr>\n",
       "      <th>0</th>\n",
       "      <td>1</td>\n",
       "      <td>1</td>\n",
       "      <td>97</td>\n",
       "      <td>99</td>\n",
       "      <td>1</td>\n",
       "    </tr>\n",
       "    <tr>\n",
       "      <th>1</th>\n",
       "      <td>1</td>\n",
       "      <td>1</td>\n",
       "      <td>90</td>\n",
       "      <td>102</td>\n",
       "      <td>2</td>\n",
       "    </tr>\n",
       "    <tr>\n",
       "      <th>2</th>\n",
       "      <td>1</td>\n",
       "      <td>1</td>\n",
       "      <td>89</td>\n",
       "      <td>96</td>\n",
       "      <td>3</td>\n",
       "    </tr>\n",
       "    <tr>\n",
       "      <th>3</th>\n",
       "      <td>1</td>\n",
       "      <td>1</td>\n",
       "      <td>86</td>\n",
       "      <td>88</td>\n",
       "      <td>4</td>\n",
       "    </tr>\n",
       "    <tr>\n",
       "      <th>4</th>\n",
       "      <td>1</td>\n",
       "      <td>1</td>\n",
       "      <td>99</td>\n",
       "      <td>106</td>\n",
       "      <td>5</td>\n",
       "    </tr>\n",
       "  </tbody>\n",
       "</table>\n",
       "</div>"
      ],
      "text/plain": [
       "   P1 [NS]  P2 [EW]  Score P1  Score P2  Seed\n",
       "0        1        1        97        99     1\n",
       "1        1        1        90       102     2\n",
       "2        1        1        89        96     3\n",
       "3        1        1        86        88     4\n",
       "4        1        1        99       106     5"
      ]
     },
     "execution_count": 43,
     "metadata": {},
     "output_type": "execute_result"
    }
   ],
   "source": [
    "# Create datafram from tournament results\n",
    "df = pd.read_csv('tournaments.csv')\n",
    "df.head()"
   ]
  },
  {
   "cell_type": "code",
   "execution_count": 18,
   "metadata": {},
   "outputs": [],
   "source": [
    "# Create scores by team\n",
    "team_scores_NS = {}\n",
    "team_scores_EW = {}\n",
    "for i in range(1, 11):\n",
    "    team_scores_NS[i] = df[df['P1 [NS]'] == i]['Score P1']\n",
    "    team_scores_EW[i] = df[df['P2 [EW]'] == i]['Score P2']"
   ]
  },
  {
   "cell_type": "code",
   "execution_count": 41,
   "metadata": {},
   "outputs": [
    {
     "name": "stdout",
     "output_type": "stream",
     "text": [
      "Group 1: NS: 95.0975, EW: 95.4161, overall: 95.2568\n",
      "Group 2: NS: 82.1702, EW: 82.8536, overall: 82.5119\n",
      "Group 3: NS: 89.449, EW: 89.7407, overall: 89.59485000000001\n",
      "Group 4: NS: 87.4865, EW: 87.317, overall: 87.40174999999999\n",
      "Group 5: NS: 95.6568, EW: 96.196, overall: 95.9264\n",
      "Group 6: NS: 92.266, EW: 92.2497, overall: 92.25785\n",
      "Group 7: NS: 88.317, EW: 88.2798, overall: 88.29839999999999\n",
      "Group 8: NS: 87.7914, EW: 87.9789, overall: 87.88515\n",
      "Group 9: NS: 95.3494, EW: 95.2266, overall: 95.28800000000001\n",
      "Group 10: NS: 86.8076, EW: 87.4008, overall: 87.10419999999999\n"
     ]
    }
   ],
   "source": [
    "# Average scores by group\n",
    "for i in range(1, 11):\n",
    "    print(f'Group {i}: NS: {team_scores_NS[i].mean()}, EW: {team_scores_EW[i].mean()}, overall: {(team_scores_NS[i].mean() + team_scores_EW[i].mean())/2}')"
   ]
  },
  {
   "cell_type": "code",
   "execution_count": 42,
   "metadata": {},
   "outputs": [
    {
     "name": "stdout",
     "output_type": "stream",
     "text": [
      "Win rate: NS: 0.3661, EW: 0.3859\n"
     ]
    }
   ],
   "source": [
    "# Calculate win loss ratio\n",
    "NS_win_rate = (df[df['P1 [NS]'] == 10]['Score P1'] > df[df['P1 [NS]'] == 10]['Score P2']).sum() / len(df[df['P1 [NS]'] == 10])\n",
    "EW_win_rate = (df[df['P2 [EW]'] == 10]['Score P2'] > df[df['P2 [EW]'] == 10]['Score P1']).sum() / len(df[df['P2 [EW]'] == 10])\n",
    "print(f'Win rate: NS: {NS_win_rate}, EW: {EW_win_rate}')"
   ]
  },
  {
   "cell_type": "code",
   "execution_count": 51,
   "metadata": {},
   "outputs": [
    {
     "name": "stdout",
     "output_type": "stream",
     "text": [
      "Group 1 self average score: 96.8425\n",
      "Group 2 self average score: 72.049\n",
      "Group 3 self average score: 89.68299999999999\n",
      "Group 4 self average score: 84.827\n",
      "Group 5 self average score: 96.026\n",
      "Group 6 self average score: 93.571\n",
      "Group 7 self average score: 87.376\n",
      "Group 8 self average score: 82.287\n",
      "Group 9 self average score: 96.52350000000001\n",
      "Group 10 self average score: 91.358\n"
     ]
    }
   ],
   "source": [
    "# Print self average score by group\n",
    "for i in range(1, 11):\n",
    "    group_self = df.loc[(df['P1 [NS]'] == i) & (df['P2 [EW]'] == i)]\n",
    "    group_self_avg_score = (group_self['Score P1'].mean() + group_self['Score P2'].mean())/2\n",
    "    print(f'Group {i} self average score: {group_self_avg_score}')"
   ]
  },
  {
   "cell_type": "code",
   "execution_count": null,
   "metadata": {},
   "outputs": [],
   "source": []
  }
 ],
 "metadata": {
  "kernelspec": {
   "display_name": "guesshand",
   "language": "python",
   "name": "python3"
  },
  "language_info": {
   "codemirror_mode": {
    "name": "ipython",
    "version": 3
   },
   "file_extension": ".py",
   "mimetype": "text/x-python",
   "name": "python",
   "nbconvert_exporter": "python",
   "pygments_lexer": "ipython3",
   "version": "3.12.6"
  }
 },
 "nbformat": 4,
 "nbformat_minor": 2
}
