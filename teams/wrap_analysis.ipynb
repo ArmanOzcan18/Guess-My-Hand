{
 "cells": [
  {
   "cell_type": "code",
   "execution_count": 145,
   "metadata": {},
   "outputs": [],
   "source": [
    "import numpy as np"
   ]
  },
  {
   "cell_type": "code",
   "execution_count": 146,
   "metadata": {},
   "outputs": [],
   "source": [
    "# Parameters\n",
    "DECK_SIZE = 52\n",
    "HAND_SIZE = 13\n",
    "N_TRIALS = 10000"
   ]
  },
  {
   "cell_type": "code",
   "execution_count": 147,
   "metadata": {},
   "outputs": [],
   "source": [
    "# Calculate largest gap in circular array\n",
    "def calc_largest_gap(slots, n_slots):\n",
    "    # Sort the chosen slots\n",
    "    slots_sorted = np.sort(slots)\n",
    "    # Calculate gaps between consecutive slots\n",
    "    gaps = np.diff(slots_sorted, append=slots_sorted[0] + n_slots)\n",
    "    return np.max(gaps)"
   ]
  },
  {
   "cell_type": "code",
   "execution_count": 148,
   "metadata": {},
   "outputs": [],
   "source": [
    "# Calculate gaps at both ends of linear array\n",
    "def calc_end_gaps(slots, n_slots):\n",
    "    # Sort the chosen slots\n",
    "    slots_sorted = np.sort(slots)\n",
    "    # Calculate gaps for both ends\n",
    "    lower_end_gap = slots_sorted[0]\n",
    "    upper_end_gap = n_slots - slots_sorted[-1]\n",
    "    # Calculate gaps at both ends\n",
    "    return lower_end_gap + upper_end_gap"
   ]
  },
  {
   "cell_type": "code",
   "execution_count": 149,
   "metadata": {},
   "outputs": [],
   "source": [
    "# Find min and max in wrapped array\n",
    "def reorder_hand(slots, n_slots):\n",
    "    # Sort the chosen slots\n",
    "    slots_sorted = np.sort(slots)\n",
    "    # Find min and max in wrapped array\n",
    "    max_gap = 0\n",
    "    min_idx = None\n",
    "    max_idx = None\n",
    "    for i in range(len(slots_sorted) - 1):\n",
    "        gap = slots_sorted[i+1] - slots_sorted[i]\n",
    "        if gap > max_gap:\n",
    "            max_gap = gap\n",
    "            min_idx = slots_sorted[i+1]\n",
    "            max_idx = slots_sorted[i]\n",
    "    \n",
    "    # Check wrap-around gap\n",
    "    wrap_around_gap = slots_sorted[0] + n_slots - slots_sorted[-1]\n",
    "    if wrap_around_gap > max_gap:\n",
    "        max_gap = wrap_around_gap\n",
    "        min_idx = slots_sorted[0]\n",
    "        max_idx = slots_sorted[-1]\n",
    "\n",
    "    start_idx = np.where(slots_sorted == min_idx)[0][0]\n",
    "    reordered_slots = np.concatenate((slots_sorted[start_idx:], slots_sorted[:start_idx]))\n",
    "\n",
    "    return reordered_slots"
   ]
  },
  {
   "cell_type": "code",
   "execution_count": 150,
   "metadata": {},
   "outputs": [],
   "source": [
    "# Compute cards eliminated in wraparound min-max by round\n",
    "def wrap_elimination(hand):\n",
    "    elim_count_by_round = np.zeros(HAND_SIZE - 1)\n",
    "    min_idx = None\n",
    "    max_idx = None\n",
    "    \n",
    "    for i in range(HAND_SIZE - 1):\n",
    "        if i % 2 == 0:\n",
    "            min_idx = hand.pop(0)\n",
    "            if i == 0:\n",
    "                elim_count_by_round[i] = 3\n",
    "            else:\n",
    "                elim_count_by_round[i] = (min_idx - max_idx) % DECK_SIZE - 1\n",
    "        else:\n",
    "            max_idx = hand.pop(-1)\n",
    "            elim_count_by_round[i] = (min_idx - max_idx) % DECK_SIZE - 1\n",
    "\n",
    "    return elim_count_by_round"
   ]
  },
  {
   "cell_type": "code",
   "execution_count": 151,
   "metadata": {},
   "outputs": [],
   "source": [
    "# Compute cards eliminated in linear min-max by round\n",
    "def linear_elimination(hand):\n",
    "    elim_count_by_round = np.zeros(HAND_SIZE - 1)\n",
    "    min_idx = None\n",
    "    max_idx = None\n",
    "\n",
    "    for i in range(HAND_SIZE - 1):\n",
    "        if i % 2 == 0:\n",
    "            min_idx = hand.pop(0)\n",
    "            if i == 0:\n",
    "                elim_count_by_round[i] = min_idx\n",
    "            else:\n",
    "                elim_count_by_round[i] = min_idx + DECK_SIZE - max_idx - 1\n",
    "        else:\n",
    "            max_idx = hand.pop(-1)\n",
    "            elim_count_by_round[i] = min_idx + DECK_SIZE - max_idx - 1\n",
    "\n",
    "    return elim_count_by_round"
   ]
  },
  {
   "cell_type": "code",
   "execution_count": 153,
   "metadata": {},
   "outputs": [
    {
     "name": "stdout",
     "output_type": "stream",
     "text": [
      "Expected largest gap: 11.5792, expected end gaps: 6.5317, difference: 5.0475\n",
      "Expected cards eliminated in wrap-around min-max: [ 3.     10.5792 13.9495 17.31   20.7345 24.0714 27.467  30.764  34.1629\n",
      " 37.5327 40.8817 44.2465]\n",
      "Expected cards eliminated in linear min-max: [ 2.7563  5.5317  9.3188 13.1526 16.9146 20.6829 24.4551 28.2323 32.0295\n",
      " 35.8474 39.666  43.4068]\n",
      "Difference: [0.2437 5.0475 4.6307 4.1574 3.8199 3.3885 3.0119 2.5317 2.1334 1.6853\n",
      " 1.2157 0.8397]\n"
     ]
    }
   ],
   "source": [
    "# Simulate the process\n",
    "largest_gaps = []\n",
    "end_gaps = []\n",
    "cards_eliminated_wrap = np.zeros((N_TRIALS, HAND_SIZE - 1))\n",
    "cards_eliminated_linear = np.zeros((N_TRIALS, HAND_SIZE - 1))\n",
    "\n",
    "for i in range(N_TRIALS):\n",
    "    # Randomly choose 13 unique slots\n",
    "    chosen_hand = np.random.choice(DECK_SIZE, HAND_SIZE, replace=False)\n",
    "\n",
    "    # Calculate the largest gap\n",
    "    gap = calc_largest_gap(chosen_hand, DECK_SIZE)\n",
    "    ends = calc_end_gaps(chosen_hand, DECK_SIZE)\n",
    "    largest_gaps.append(gap)\n",
    "    end_gaps.append(ends)\n",
    "\n",
    "    # Reorder hand based on wrap-around min-max\n",
    "    reordered_hand = reorder_hand(chosen_hand, DECK_SIZE)\n",
    "    sorted_hand = np.sort(chosen_hand)\n",
    "\n",
    "    # Compute cards eliminated in both cases\n",
    "    cards_eliminated_wrap[i, :] = wrap_elimination(list(reordered_hand))\n",
    "    cards_eliminated_linear[i, :] = linear_elimination(list(sorted_hand))\n",
    "\n",
    "# Calculate the average largest gap\n",
    "expected_largest_gap = np.mean(largest_gaps)\n",
    "expected_end_gaps = np.mean(end_gaps)\n",
    "print(f'Expected largest gap: {expected_largest_gap}, expected end gaps: {expected_end_gaps}, difference: {expected_largest_gap - expected_end_gaps}')\n",
    "\n",
    "# Calculate the average number of cards eliminated in both cases\n",
    "expected_cards_eliminated_wrap = np.mean(cards_eliminated_wrap, axis=0)\n",
    "expected_cards_eliminated_linear = np.mean(cards_eliminated_linear, axis=0)\n",
    "print(f'Expected cards eliminated in wrap-around min-max: {expected_cards_eliminated_wrap}')\n",
    "print(f'Expected cards eliminated in linear min-max: {expected_cards_eliminated_linear}')\n",
    "print(f'Difference: {expected_cards_eliminated_wrap - expected_cards_eliminated_linear}')"
   ]
  },
  {
   "cell_type": "code",
   "execution_count": null,
   "metadata": {},
   "outputs": [],
   "source": [
    "# Compute expected value / score improvement"
   ]
  },
  {
   "cell_type": "code",
   "execution_count": null,
   "metadata": {},
   "outputs": [],
   "source": [
    "# Graphs"
   ]
  }
 ],
 "metadata": {
  "kernelspec": {
   "display_name": "guesshand",
   "language": "python",
   "name": "python3"
  },
  "language_info": {
   "codemirror_mode": {
    "name": "ipython",
    "version": 3
   },
   "file_extension": ".py",
   "mimetype": "text/x-python",
   "name": "python",
   "nbconvert_exporter": "python",
   "pygments_lexer": "ipython3",
   "version": "3.12.6"
  }
 },
 "nbformat": 4,
 "nbformat_minor": 2
}
