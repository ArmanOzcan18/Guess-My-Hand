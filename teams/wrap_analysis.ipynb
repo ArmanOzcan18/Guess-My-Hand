{
 "cells": [
  {
   "cell_type": "code",
   "execution_count": 165,
   "metadata": {},
   "outputs": [],
   "source": [
    "import numpy as np\n",
    "import matplotlib.pyplot as plt"
   ]
  },
  {
   "cell_type": "code",
   "execution_count": 155,
   "metadata": {},
   "outputs": [],
   "source": [
    "# Parameters\n",
    "DECK_SIZE = 52\n",
    "HAND_SIZE = 13\n",
    "N_TRIALS = 10000"
   ]
  },
  {
   "cell_type": "code",
   "execution_count": 156,
   "metadata": {},
   "outputs": [],
   "source": [
    "# Calculate largest gap in circular array\n",
    "def calc_largest_gap(slots, n_slots):\n",
    "    # Sort the chosen slots\n",
    "    slots_sorted = np.sort(slots)\n",
    "    # Calculate gaps between consecutive slots\n",
    "    gaps = np.diff(slots_sorted, append=slots_sorted[0] + n_slots)\n",
    "    return np.max(gaps)"
   ]
  },
  {
   "cell_type": "code",
   "execution_count": 157,
   "metadata": {},
   "outputs": [],
   "source": [
    "# Calculate gaps at both ends of linear array\n",
    "def calc_end_gaps(slots, n_slots):\n",
    "    # Sort the chosen slots\n",
    "    slots_sorted = np.sort(slots)\n",
    "    # Calculate gaps for both ends\n",
    "    lower_end_gap = slots_sorted[0]\n",
    "    upper_end_gap = n_slots - slots_sorted[-1]\n",
    "    # Calculate gaps at both ends\n",
    "    return lower_end_gap + upper_end_gap"
   ]
  },
  {
   "cell_type": "code",
   "execution_count": 158,
   "metadata": {},
   "outputs": [],
   "source": [
    "# Find min and max in wrapped array\n",
    "def reorder_hand(slots, n_slots):\n",
    "    # Sort the chosen slots\n",
    "    slots_sorted = np.sort(slots)\n",
    "    # Find min and max in wrapped array\n",
    "    max_gap = 0\n",
    "    min_idx = None\n",
    "    max_idx = None\n",
    "    for i in range(len(slots_sorted) - 1):\n",
    "        gap = slots_sorted[i+1] - slots_sorted[i]\n",
    "        if gap > max_gap:\n",
    "            max_gap = gap\n",
    "            min_idx = slots_sorted[i+1]\n",
    "            max_idx = slots_sorted[i]\n",
    "    \n",
    "    # Check wrap-around gap\n",
    "    wrap_around_gap = slots_sorted[0] + n_slots - slots_sorted[-1]\n",
    "    if wrap_around_gap > max_gap:\n",
    "        max_gap = wrap_around_gap\n",
    "        min_idx = slots_sorted[0]\n",
    "        max_idx = slots_sorted[-1]\n",
    "\n",
    "    start_idx = np.where(slots_sorted == min_idx)[0][0]\n",
    "    reordered_slots = np.concatenate((slots_sorted[start_idx:], slots_sorted[:start_idx]))\n",
    "\n",
    "    return reordered_slots"
   ]
  },
  {
   "cell_type": "code",
   "execution_count": 159,
   "metadata": {},
   "outputs": [],
   "source": [
    "# Compute cards eliminated in wraparound min-max by round\n",
    "def wrap_elimination(hand):\n",
    "    elim_count_by_round = np.zeros(HAND_SIZE - 1)\n",
    "    min_idx = None\n",
    "    max_idx = None\n",
    "    \n",
    "    for i in range(HAND_SIZE - 1):\n",
    "        if i % 2 == 0:\n",
    "            min_idx = hand.pop(0)\n",
    "            if i == 0:\n",
    "                elim_count_by_round[i] = 3\n",
    "            else:\n",
    "                elim_count_by_round[i] = (min_idx - max_idx) % DECK_SIZE - 1\n",
    "        else:\n",
    "            max_idx = hand.pop(-1)\n",
    "            elim_count_by_round[i] = (min_idx - max_idx) % DECK_SIZE - 1\n",
    "\n",
    "    return elim_count_by_round"
   ]
  },
  {
   "cell_type": "code",
   "execution_count": 160,
   "metadata": {},
   "outputs": [],
   "source": [
    "# Compute cards eliminated in linear min-max by round\n",
    "def linear_elimination(hand):\n",
    "    elim_count_by_round = np.zeros(HAND_SIZE - 1)\n",
    "    min_idx = None\n",
    "    max_idx = None\n",
    "\n",
    "    for i in range(HAND_SIZE - 1):\n",
    "        if i % 2 == 0:\n",
    "            min_idx = hand.pop(0)\n",
    "            if i == 0:\n",
    "                elim_count_by_round[i] = min_idx\n",
    "            else:\n",
    "                elim_count_by_round[i] = min_idx + DECK_SIZE - max_idx - 1\n",
    "        else:\n",
    "            max_idx = hand.pop(-1)\n",
    "            elim_count_by_round[i] = min_idx + DECK_SIZE - max_idx - 1\n",
    "\n",
    "    return elim_count_by_round"
   ]
  },
  {
   "cell_type": "code",
   "execution_count": 168,
   "metadata": {},
   "outputs": [
    {
     "name": "stdout",
     "output_type": "stream",
     "text": [
      "Expected largest gap: 11.5103, expected end gaps: 6.6338, difference: 4.876500000000001\n",
      "Expected cards eliminated in wrap-around min-max: [ 3.     10.5103 13.8825 17.2314 20.6446 23.9696 27.3303 30.6754 34.0754\n",
      " 37.4735 40.8453 44.2121]\n",
      "Expected cards eliminated in linear min-max: [ 2.8152  5.6338  9.4563 13.2353 17.0467 20.8278 24.6024 28.3448 32.0821\n",
      " 35.8182 39.5958 43.3825]\n",
      "Difference: [0.1848 4.8765 4.4262 3.9961 3.5979 3.1418 2.7279 2.3306 1.9933 1.6553\n",
      " 1.2495 0.8296]\n"
     ]
    }
   ],
   "source": [
    "# Simulate the process\n",
    "largest_gaps = []\n",
    "end_gaps = []\n",
    "cards_eliminated_wrap = np.zeros((N_TRIALS, HAND_SIZE - 1))\n",
    "cards_eliminated_linear = np.zeros((N_TRIALS, HAND_SIZE - 1))\n",
    "\n",
    "for i in range(N_TRIALS):\n",
    "    # Randomly choose 13 unique slots\n",
    "    chosen_hand = np.random.choice(DECK_SIZE, HAND_SIZE, replace=False)\n",
    "\n",
    "    # Calculate the largest gap\n",
    "    gap = calc_largest_gap(chosen_hand, DECK_SIZE)\n",
    "    ends = calc_end_gaps(chosen_hand, DECK_SIZE)\n",
    "    largest_gaps.append(gap)\n",
    "    end_gaps.append(ends)\n",
    "\n",
    "    # Reorder hand based on wrap-around min-max\n",
    "    reordered_hand = reorder_hand(chosen_hand, DECK_SIZE)\n",
    "    sorted_hand = np.sort(chosen_hand)\n",
    "\n",
    "    # Compute cards eliminated in both cases\n",
    "    cards_eliminated_wrap[i, :] = wrap_elimination(list(reordered_hand))\n",
    "    cards_eliminated_linear[i, :] = linear_elimination(list(sorted_hand))\n",
    "\n",
    "# Calculate the average largest gap\n",
    "expected_largest_gap = np.mean(largest_gaps)\n",
    "expected_end_gaps = np.mean(end_gaps)\n",
    "print(f'Expected largest gap: {expected_largest_gap}, expected end gaps: {expected_end_gaps}, difference: {expected_largest_gap - expected_end_gaps}')\n",
    "\n",
    "# Calculate the average number of cards eliminated in both cases\n",
    "expected_cards_eliminated_wrap = np.mean(cards_eliminated_wrap, axis=0)\n",
    "expected_cards_eliminated_linear = np.mean(cards_eliminated_linear, axis=0)\n",
    "difference = expected_cards_eliminated_wrap - expected_cards_eliminated_linear\n",
    "cumulative_difference = np.cumsum(difference)\n",
    "print(f'Expected cards eliminated in wrap-around min-max: {expected_cards_eliminated_wrap}')\n",
    "print(f'Expected cards eliminated in linear min-max: {expected_cards_eliminated_linear}')\n",
    "print(f'Difference: {difference}')\n"
   ]
  },
  {
   "cell_type": "code",
   "execution_count": 170,
   "metadata": {},
   "outputs": [
    {
     "data": {
      "image/png": "[encoded data removed]",
      "text/plain": [
       "<Figure size 640x480 with 1 Axes>"
      ]
     },
     "metadata": {},
     "output_type": "display_data"
    }
   ],
   "source": [
    "# Plot comparison of cards eliminated by round\n",
    "rounds = np.arange(1, HAND_SIZE)\n",
    "bar_width = 0.4\n",
    "r1 = rounds - bar_width / 2\n",
    "r2 = rounds + bar_width / 2\n",
    "\n",
    "plt.bar(r1, expected_cards_eliminated_wrap, width=bar_width, color='b', label='Wrap-around min-max')\n",
    "plt.bar(r2, expected_cards_eliminated_linear, width=bar_width, color='r', label='Linear min-max')\n",
    "plt.xlabel('Round')\n",
    "plt.ylabel('Cards eliminated')\n",
    "plt.legend()\n",
    "plt.savefig('cards_eliminated.png')\n",
    "plt.show()"
   ]
  },
  {
   "cell_type": "code",
   "execution_count": 171,
   "metadata": {},
   "outputs": [
    {
     "data": {
      "image/png": "[encoded data removed]",
      "text/plain": [
       "<Figure size 640x480 with 1 Axes>"
      ]
     },
     "metadata": {},
     "output_type": "display_data"
    }
   ],
   "source": [
    "# Plot difference in cards eliminated by round\n",
    "plt.bar(rounds, difference, color='g')\n",
    "plt.xlabel('Round')\n",
    "plt.ylabel('Difference in cards eliminated')\n",
    "plt.savefig('difference.png')\n",
    "plt.show()"
   ]
  },
  {
   "cell_type": "code",
   "execution_count": null,
   "metadata": {},
   "outputs": [],
   "source": [
    "# Simulations against each group, playing as NS\n",
    "scores_wrap = [\n",
    "    (85.43, 86.48),\n",
    "    (85.08, 81.19),\n",
    "    (85.61, 88.71),\n",
    "    (89.86, 75.22),\n",
    "    (85.64, 93.04),\n",
    "    (86.33, 85.82),\n",
    "    (85.08, 80.00),\n",
    "    (89.17, 84.01),\n",
    "    \n",
    "]"
   ]
  }
 ],
 "metadata": {
  "kernelspec": {
   "display_name": "guesshand",
   "language": "python",
   "name": "python3"
  },
  "language_info": {
   "codemirror_mode": {
    "name": "ipython",
    "version": 3
   },
   "file_extension": ".py",
   "mimetype": "text/x-python",
   "name": "python",
   "nbconvert_exporter": "python",
   "pygments_lexer": "ipython3",
   "version": "3.12.6"
  }
 },
 "nbformat": 4,
 "nbformat_minor": 2
}
