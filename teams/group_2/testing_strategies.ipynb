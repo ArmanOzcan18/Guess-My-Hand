{
 "cells": [
  {
   "metadata": {
    "ExecuteTime": {
     "end_time": "2024-10-10T15:08:35.263727Z",
     "start_time": "2024-10-10T15:08:35.260634Z"
    }
   },
   "cell_type": "code",
   "source": [
    "\"\"\"\n",
    "Testing strategies\n",
    "\"\"\"\n",
    "import random\n",
    "import statistics\n",
    "\n",
    "\n",
    "def get_random(hand, other):\n",
    "    # Select randomly from possible values \n",
    "    guess = random.sample(list(other), 12)\n",
    "\n",
    "    # Get number of correct guesses  \n",
    "    num_correct = len(set(hand).intersection(set(guess)))\n",
    "    return guess, num_correct\n",
    "\n",
    "\n",
    "def get_below_max(hand, other):\n",
    "    # Max strategy \n",
    "    max_val = max(hand)\n",
    "    below = [val for val in other if val < max_val]\n",
    "\n",
    "    # Select randomly from possible values \n",
    "    guess = random.sample(below, 12)\n",
    "\n",
    "    # Get number of correct guesses  \n",
    "    num_correct = len(set(hand).intersection(set(guess)))\n",
    "    return guess, num_correct\n",
    "\n",
    "\n",
    "def get_most_in_window(hand, other, window=12, highest=52):\n",
    "    # Just for easier debugging\n",
    "    hand.sort()\n",
    "    \n",
    "    # In YOUR HAND finding the window with the highest number of cards \n",
    "    min_window = 0\n",
    "    num_cards_in_window = 0\n",
    "    for min_card in hand:\n",
    "        # Values in window that are ABOVE the min_window but BELOW the highest value (ie 52) \n",
    "        vals_in_window = [i for i in range(min_card + 1, min_card + window + 1) if i <= highest]\n",
    "        \n",
    "        # This means that min_window > 40 (because then the numbers to check for go above 53 which is out of range).\n",
    "        if len(vals_in_window) < window:\n",
    "            looped_window = [i for i in range(1, (min_card + window + 1) - highest)]\n",
    "            vals_in_window = vals_in_window + looped_window\n",
    "        \n",
    "        cards_in_window = set(hand).intersection(set(vals_in_window))\n",
    "        \n",
    "        if len(cards_in_window) > num_cards_in_window:\n",
    "            num_cards_in_window = len(cards_in_window)\n",
    "            min_window = min_card\n",
    "            \n",
    "    # Your PARTNER using that min_window to get their guesses\n",
    "    # Now use this min_window to guess cards from other \n",
    "    guess = [val for val in other if min_window < val]\n",
    "    \n",
    "    # If there are not enough guessable cards above the min_window loop back to select from the bottom\n",
    "    if len(guess) < window:\n",
    "        max_window = window - len(guess) \n",
    "        other.sort()\n",
    "        guess = guess + other[:max_window]\n",
    "    else:\n",
    "        guess = guess[:window]\n",
    "        \n",
    "    assert len(guess) == window\n",
    "    \n",
    "    # Get number of correct guesses  \n",
    "    num_correct = len(set(hand).intersection(set(guess)))\n",
    "    return guess, num_correct    \n",
    "\n"
   ],
   "id": "2b12dabb67056490",
   "outputs": [],
   "execution_count": 164
  },
  {
   "metadata": {
    "ExecuteTime": {
     "end_time": "2024-10-10T15:09:00.956110Z",
     "start_time": "2024-10-10T15:09:00.677963Z"
    }
   },
   "cell_type": "code",
   "source": [
    "random_score = []\n",
    "max_score = []\n",
    "window_score = []\n",
    "num_runs = 10000\n",
    "for exp in range(0,num_runs):\n",
    "    deck = [x for x in range(1,53)]\n",
    "    hand = random.sample(deck, 13)\n",
    "    part = random.sample(list(set(deck) - set(hand)), 13)\n",
    "    other = list(set(deck) - set(part))\n",
    "    \n",
    "    r_guess, r_num_correct = get_random(hand, other)\n",
    "    random_score.append(r_num_correct)\n",
    "    m_guess, m_num_correct = get_below_max(hand, other)\n",
    "    max_score.append(m_num_correct)\n",
    "    w_guess, w_num_correct = get_most_in_window(hand, other)\n",
    "    window_score.append(w_num_correct)\n",
    "\n",
    "print(f\"Over {num_runs} runs\")\n",
    "print(\"Random selection -- Avg R1 Score: \", statistics.mean(random_score), \"SD: \", round(statistics.stdev(random_score), 3))\n",
    "print(\"Max bound selection -- Avg R1 Score: \", statistics.mean(max_score), \"SD: \", round(statistics.stdev(max_score), 3))\n",
    "print(\"Most cards in window selection -- Avg R1 Score:\", statistics.mean(window_score), \"SD: \", round(statistics.stdev(window_score), 3))"
   ],
   "id": "e57e97aa6b782aa3",
   "outputs": [
    {
     "name": "stdout",
     "output_type": "stream",
     "text": [
      "Over 10000 runs\n",
      "Random selection -- Avg R1 Score:  4.0014 SD:  1.368\n",
      "Max bound selection -- Avg R1 Score:  3.9839 SD:  1.388\n",
      "Most cards in window selection -- Avg R1 Score: 5.378 SD:  0.951\n"
     ]
    }
   ],
   "execution_count": 167
  },
  {
   "metadata": {},
   "cell_type": "code",
   "outputs": [],
   "execution_count": null,
   "source": "",
   "id": "a59ea681e70eebc8"
  }
 ],
 "metadata": {
  "kernelspec": {
   "display_name": "Python 3",
   "language": "python",
   "name": "python3"
  },
  "language_info": {
   "codemirror_mode": {
    "name": "ipython",
    "version": 2
   },
   "file_extension": ".py",
   "mimetype": "text/x-python",
   "name": "python",
   "nbconvert_exporter": "python",
   "pygments_lexer": "ipython2",
   "version": "2.7.6"
  }
 },
 "nbformat": 4,
 "nbformat_minor": 5
}
